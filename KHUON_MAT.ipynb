{
  "nbformat": 4,
  "nbformat_minor": 0,
  "metadata": {
    "colab": {
      "provenance": [],
      "mount_file_id": "1i4CxGoT-_FEVfuqEt84AZrsJamgxcmZy",
      "authorship_tag": "ABX9TyOr3OCkS5ofZLS4RwCjRzAX",
      "include_colab_link": true
    },
    "kernelspec": {
      "name": "python3",
      "display_name": "Python 3"
    },
    "language_info": {
      "name": "python"
    }
  },
  "cells": [
    {
      "cell_type": "markdown",
      "metadata": {
        "id": "view-in-github",
        "colab_type": "text"
      },
      "source": [
        "<a href=\"https://colab.research.google.com/github/thaohung13/AI_W11_14_4_2023/blob/main/KHUON_MAT.ipynb\" target=\"_parent\"><img src=\"https://colab.research.google.com/assets/colab-badge.svg\" alt=\"Open In Colab\"/></a>"
      ]
    },
    {
      "cell_type": "code",
      "source": [
        "#tải tập dữ liệu hình ảnh, chuyển đổi chúng thành mảng NumPy,\n",
        "#và lưu các mảng này vào đĩa để sử dụng trong quá trình đào tạo hoặc kiểm tra mô hình.\n",
        "from numpy.lib.npyio import save # lưu mảng vào tệp\n",
        "from os import listdir # lấy danh sách tệp trong thư mục huấn luyện\n",
        "from numpy import asarray # chuyển đổi danh sách ảnh và nhãn thành mảng NumPy\n",
        "from numpy import save # lưu thành tệp\n",
        "from keras.utils import load_img, img_to_array # load_img: để tải ảnh từ tệp\n",
        "                                               # img_to_array: chuyển đổi thành mảng NumPy\n",
        "folder = '/content/drive/MyDrive/BAI5/'\n",
        "photos, labels = list(), list() # Khởi tạo hai danh sách rỗng photos và labels để chứa ảnh và nhãn\n",
        "for file in listdir(folder):\n",
        "  output = 0.0\n",
        "  if file.startswith('HOA'):\n",
        "    output = 1;\n",
        "  if file.startswith('HUNG'):\n",
        "    output = 1;  \n",
        "  photo = load_img(folder + file,target_size=(30,40)) \n",
        "  photo = img_to_array(photo) # Chuyển đổi ảnh thành một mảng NumPy\n",
        "  photos.append(photo)  # Thêm mảng ảnh vào danh sách photos\n",
        "  labels.append(output) # Thêm giá trị output tương ứng vào danh sách labels\n",
        "photos = asarray(photo) # Chuyển danh sách ảnh thành một mảng NumPy\n",
        "labels = asarray(labels) # Chuyển danh sách nhãn thành một mảng NumPy\n",
        "print(photos.shape, labels.shape) # In ra kích thước của mảng ảnh và mảng nhãn\n",
        "# photos.shape trả về kích thước của mảng photos, được biểu diễn dưới dạng một tuple (số lượng phần tử theo chiều dọc, số lượng phần tử theo chiều ngang, số lượng kênh màu)\n",
        "# labels.shape: trả về 60 ảnh"
      ],
      "metadata": {
        "id": "50RKkl26R-zQ",
        "colab": {
          "base_uri": "https://localhost:8080/"
        },
        "outputId": "51e8fbc3-e8ff-4f1d-816d-496d1adefee7"
      },
      "execution_count": 1,
      "outputs": [
        {
          "output_type": "stream",
          "name": "stdout",
          "text": [
            "(30, 40, 3) (13,)\n"
          ]
        }
      ]
    },
    {
      "cell_type": "code",
      "source": [
        "# lưu trữ các mảng numpy photos và labels\n",
        "save('/content/drive/MyDrive/BAI5/face_photos.npy', photos)\n",
        "save('/content/drive/MyDrive/BAI5/face_labels.npy', labels)"
      ],
      "metadata": {
        "id": "-nNW7y_TCzNH"
      },
      "execution_count": 2,
      "outputs": []
    }
  ]
}